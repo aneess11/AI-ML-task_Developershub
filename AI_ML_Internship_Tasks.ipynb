{
 "cells": [
  {
   "cell_type": "markdown",
   "id": "f506c7ef",
   "metadata": {},
   "source": [
    "# AI/ML Internship Tasks\n",
    "\n",
    "### Completed Tasks: Task 1, Task 4, Task 6"
   ]
  },
  {
   "cell_type": "markdown",
   "id": "706d11d9",
   "metadata": {},
   "source": [
    "## Task 1: Exploring and Visualizing a Simple Dataset"
   ]
  },
  {
   "cell_type": "code",
   "execution_count": null,
   "id": "73c700f5",
   "metadata": {},
   "outputs": [],
   "source": [
    "import pandas as pd\n",
    "import seaborn as sns\n",
    "import matplotlib.pyplot as plt\n",
    "\n",
    "# Load dataset\n",
    "iris = sns.load_dataset('iris')\n",
    "\n",
    "# Basic inspection\n",
    "print(\"Shape:\", iris.shape)\n",
    "print(\"Columns:\", iris.columns)\n",
    "print(\"First 5 rows:\\n\", iris.head())\n",
    "\n",
    "# Info and Description\n",
    "print(\"\\nInfo:\")\n",
    "print(iris.info())\n",
    "print(\"\\nDescription:\")\n",
    "print(iris.describe())"
   ]
  },
  {
   "cell_type": "code",
   "execution_count": null,
   "id": "640b006a",
   "metadata": {},
   "outputs": [],
   "source": [
    "# Scatter plot\n",
    "sns.scatterplot(data=iris, x='sepal_length', y='petal_length', hue='species')\n",
    "plt.title(\"Sepal Length vs Petal Length\")\n",
    "plt.show()"
   ]
  },
  {
   "cell_type": "code",
   "execution_count": null,
   "id": "4cf5dc7a",
   "metadata": {},
   "outputs": [],
   "source": [
    "# Histograms\n",
    "iris.hist(figsize=(10, 8))\n",
    "plt.suptitle(\"Histograms of Iris Features\")\n",
    "plt.show()"
   ]
  },
  {
   "cell_type": "code",
   "execution_count": null,
   "id": "68fd28f6",
   "metadata": {},
   "outputs": [],
   "source": [
    "# Box plots\n",
    "sns.boxplot(data=iris)\n",
    "plt.title(\"Boxplot of Iris Features\")\n",
    "plt.xticks(rotation=45)\n",
    "plt.show()"
   ]
  },
  {
   "cell_type": "markdown",
   "id": "affb7912",
   "metadata": {},
   "source": [
    "## Task 4: General Health Query Chatbot (Prompt Engineering)"
   ]
  },
  {
   "cell_type": "code",
   "execution_count": null,
   "id": "a822f7ac",
   "metadata": {},
   "outputs": [],
   "source": [
    "# NOTE: Requires OpenAI API Key to run.\n",
    "# import openai\n",
    "# openai.api_key = 'your-api-key-here'\n",
    "\n",
    "# def health_chatbot(query):\n",
    "#     prompt = f\"Act like a helpful medical assistant. {query}\"\n",
    "#     response = openai.ChatCompletion.create(\n",
    "#         model=\"gpt-3.5-turbo\",\n",
    "#         messages=[{\"role\": \"user\", \"content\": prompt}]\n",
    "#     )\n",
    "#     return response['choices'][0]['message']['content']\n",
    "\n",
    "# Example queries:\n",
    "# print(health_chatbot(\"What causes a sore throat?\"))\n",
    "# print(health_chatbot(\"Is paracetamol safe for children?\"))"
   ]
  },
  {
   "cell_type": "markdown",
   "id": "d8799363",
   "metadata": {},
   "source": [
    "## Task 6: House Price Prediction"
   ]
  },
  {
   "cell_type": "code",
   "execution_count": null,
   "id": "7ad053fc",
   "metadata": {},
   "outputs": [],
   "source": [
    "from sklearn.datasets import load_boston\n",
    "from sklearn.model_selection import train_test_split\n",
    "from sklearn.linear_model import LinearRegression\n",
    "from sklearn.metrics import mean_absolute_error, mean_squared_error\n",
    "import numpy as np\n",
    "import pandas as pd\n",
    "import matplotlib.pyplot as plt\n",
    "import warnings\n",
    "warnings.filterwarnings('ignore')\n",
    "\n",
    "# Load and prepare data\n",
    "data = load_boston()\n",
    "df = pd.DataFrame(data.data, columns=data.feature_names)\n",
    "df['PRICE'] = data.target\n",
    "\n",
    "# Features and target\n",
    "X = df.drop('PRICE', axis=1)\n",
    "y = df['PRICE']\n",
    "\n",
    "# Train/test split\n",
    "X_train, X_test, y_train, y_test = train_test_split(X, y, test_size=0.2, random_state=42)\n",
    "\n",
    "# Train model\n",
    "model = LinearRegression()\n",
    "model.fit(X_train, y_train)\n",
    "\n",
    "# Predict and evaluate\n",
    "y_pred = model.predict(X_test)\n",
    "print(\"\\nMAE:\", mean_absolute_error(y_test, y_pred))\n",
    "print(\"RMSE:\", mean_squared_error(y_test, y_pred, squared=False))"
   ]
  },
  {
   "cell_type": "code",
   "execution_count": null,
   "id": "5e2a27a5",
   "metadata": {},
   "outputs": [],
   "source": [
    "# Plot actual vs predicted\n",
    "plt.figure(figsize=(8,6))\n",
    "plt.scatter(y_test, y_pred)\n",
    "plt.xlabel(\"Actual Prices\")\n",
    "plt.ylabel(\"Predicted Prices\")\n",
    "plt.title(\"Actual vs Predicted House Prices\")\n",
    "plt.plot([y.min(), y.max()], [y.min(), y.max()], '--r')\n",
    "plt.show()"
   ]
  }
 ],
 "metadata": {},
 "nbformat": 4,
 "nbformat_minor": 5
}